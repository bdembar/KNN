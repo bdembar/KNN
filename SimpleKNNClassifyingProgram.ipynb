{
 "cells": [
  {
   "cell_type": "code",
   "execution_count": null,
   "id": "15d24bb5",
   "metadata": {},
   "outputs": [],
   "source": [
    "import pandas as pd\n",
    "import numpy as np\n",
    "import math\n",
    "# load in the knn classifier\n",
    "from sklearn.neighbors import KNeighborsClassifier"
   ]
  },
  {
   "cell_type": "code",
   "execution_count": null,
   "id": "dc9bf457",
   "metadata": {},
   "outputs": [],
   "source": [
    "Songs = pd.read_csv(\"cs654_homework3_dataset_Dembar.csv\")\n",
    "Songs.head()"
   ]
  },
  {
   "cell_type": "code",
   "execution_count": null,
   "id": "4cd88609",
   "metadata": {},
   "outputs": [],
   "source": [
    "# Here I am taking the first two columns off\n",
    "Songs = Songs[['duration_ms','popularity']]"
   ]
  },
  {
   "cell_type": "code",
   "execution_count": null,
   "id": "9e4aa6e6",
   "metadata": {},
   "outputs": [],
   "source": [
    "# Add a column called class_label and insert 'A' on every row.\n",
    "Songs.insert(len(Songs.columns), 'class_label','A')\n",
    "Songs"
   ]
  },
  {
   "cell_type": "markdown",
   "id": "d34f3dad",
   "metadata": {},
   "source": [
    "## Figure out how to classify\n",
    "After emailing with you I decided to create a list of 50 'A's and 50 'B's and assign them in order to the class_label column.  "
   ]
  },
  {
   "cell_type": "code",
   "execution_count": null,
   "id": "22a5b56b",
   "metadata": {},
   "outputs": [],
   "source": [
    "A = ['A']*50\n",
    "B = ['B']*50"
   ]
  },
  {
   "cell_type": "code",
   "execution_count": null,
   "id": "89dd2369",
   "metadata": {},
   "outputs": [],
   "source": [
    "Songs['class_label'] = A + B"
   ]
  },
  {
   "cell_type": "code",
   "execution_count": null,
   "id": "545851be",
   "metadata": {},
   "outputs": [],
   "source": [
    "Songs\n",
    "    "
   ]
  },
  {
   "cell_type": "code",
   "execution_count": null,
   "id": "85c885c9",
   "metadata": {},
   "outputs": [],
   "source": [
    "Songs['class_label'].value_counts()"
   ]
  },
  {
   "cell_type": "code",
   "execution_count": null,
   "id": "34e8ca4f",
   "metadata": {},
   "outputs": [],
   "source": [
    "# write new dataset with class_label column to .csv\n",
    "Songs.to_csv('cs654_homework4_dataset_Dembar_New.csv')"
   ]
  },
  {
   "cell_type": "code",
   "execution_count": null,
   "id": "6316e884",
   "metadata": {},
   "outputs": [],
   "source": [
    "# Create training data points of 50 rows using the first 25 A's and first 25 B's row. \n",
    "X = Songs.iloc[0:25,0]\n",
    "X1 = Songs.iloc[50:75,0]\n",
    "Y = Songs.iloc[0:25,1]\n",
    "Y1 = Songs.iloc[50:75,1]\n",
    "Z = Songs.iloc[0:25,2]\n",
    "Z1 = Songs.iloc[50:75,2]\n",
    "\n",
    "X_list = X.to_list()\n",
    "X1_list = X1.to_list()\n",
    "Y_list = Y.to_list()\n",
    "Y1_list = Y1.to_list()\n",
    "Z_list = Z.to_list()\n",
    "Z1_list = Z1.to_list()\n",
    "\n",
    "duration = X_list + X1_list\n",
    "popularity = Y_list + Y1_list\n",
    "\n",
    "labels = Z_list + Z1_list"
   ]
  },
  {
   "cell_type": "code",
   "execution_count": null,
   "id": "10629540",
   "metadata": {},
   "outputs": [],
   "source": [
    "training_data_points = list(zip(duration, popularity))\n",
    "training_data_labels = labels"
   ]
  },
  {
   "cell_type": "code",
   "execution_count": null,
   "id": "12ac68f8",
   "metadata": {},
   "outputs": [],
   "source": [
    "len(training_data_points), len(training_data_labels)"
   ]
  },
  {
   "cell_type": "code",
   "execution_count": null,
   "id": "c3ce32d4",
   "metadata": {},
   "outputs": [],
   "source": [
    "# Create Test Data Points of 50 rows using the last 25 A's and last 25 B's row. \n",
    "L = Songs.iloc[25:50,0]\n",
    "L1 = Songs.iloc[75:100,0]\n",
    "N = Songs.iloc[25:50,1]\n",
    "N1 = Songs.iloc[75:100,1]\n",
    "P = Songs.iloc[25:50,2]\n",
    "P1 = Songs.iloc[75:100,2]\n",
    "\n",
    "L_list = L.to_list()\n",
    "L1_list = L1.to_list()\n",
    "N_list = N.to_list()\n",
    "N1_list = N1.to_list()\n",
    "P_list = P.to_list()\n",
    "P1_list = P1.to_list()\n",
    "\n",
    "duration_test = L_list + L1_list\n",
    "popularity_test = N_list + N1_list\n",
    "\n",
    "labels_test = P_list + P1_list\n",
    "# make up 10 data points to test\n",
    "test_data_points = list(zip(duration_test,popularity_test))"
   ]
  },
  {
   "cell_type": "code",
   "execution_count": null,
   "id": "b79ab6ed",
   "metadata": {},
   "outputs": [],
   "source": [
    "# True labels of test data\n",
    "test_data_labels = labels_test"
   ]
  },
  {
   "cell_type": "code",
   "execution_count": null,
   "id": "a277c8f6",
   "metadata": {},
   "outputs": [],
   "source": [
    "# K = 1\n",
    "knn_classifier_1 = KNeighborsClassifier(n_neighbors = 1)\n",
    "knn_classifier_1.fit(training_data_points, training_data_labels)\n",
    "\n",
    "# make predictions for test data\n",
    "knn_classifier_1.predict(test_data_points)\n",
    "\n",
    "# store the predictions in a list \n",
    "knn_1_predictions = list(knn_classifier_1.predict(test_data_points))\n",
    "\n",
    "# Find out how many errors in my predictions; predictions against true labels\n",
    "error_of_A = 0\n",
    "error_of_B = 0\n",
    "for i in range(int(len(test_data_labels)*0.5)):\n",
    "    if knn_1_predictions[i] != test_data_labels[i]:\n",
    "        error_of_A = error_of_A + 1\n",
    "for i in range(int(len(test_data_labels)*0.5), len(test_data_labels)):\n",
    "    if knn_1_predictions[i] != test_data_labels[i]:\n",
    "        error_of_B = error_of_B + 1\n"
   ]
  },
  {
   "cell_type": "code",
   "execution_count": null,
   "id": "09bd3fe0",
   "metadata": {},
   "outputs": [],
   "source": [
    "# Data for K=1\n",
    "A_error = 1 - (error_of_A)/25\n",
    "B_error = 1-(error_of_B)/25\n",
    "print(\"Class (A) accuracy = {0:.0%}\".format(A_error),\"\\n\"\n",
    "\"Class (B) accuracy = {0:.0%}\".format(B_error))\n",
    "print(\"Total Combined Accuracy = {:.0%}\".format(((A_error) + (B_error))/2))\n",
    "print(\"Class (A) error = {0:.0%}\".format((error_of_A)/25),\"\\n\"\n",
    "    \"Class (B) error = {0:.0%}\".format((error_of_B)/25))\n",
    "print(\"Total Combined error = {0:.0%}\".format((error_of_A)/50 + (error_of_B)/50))"
   ]
  },
  {
   "cell_type": "code",
   "execution_count": null,
   "id": "130fa778",
   "metadata": {},
   "outputs": [],
   "source": [
    "# use 5 NN\n",
    "knn_classifier_5 = KNeighborsClassifier(n_neighbors = 5)\n",
    "knn_classifier_5.fit(training_data_points, training_data_labels)\n",
    "\n",
    "# make predictions for test data\n",
    "knn_classifier_5.predict(test_data_points)\n",
    "\n",
    "# store the predictions in a list \n",
    "knn_5_predictions = list(knn_classifier_5.predict(test_data_points))\n",
    "# Find out how many errors in my predictions; predictions against true labels\n",
    "error_of_A5 = 0\n",
    "error_of_B5 = 0\n",
    "for i in range(int(len(test_data_labels)*0.5)):\n",
    "    if knn_5_predictions[i] != test_data_labels[i]:\n",
    "        error_of_A5 = error_of_A5 + 1\n",
    "for i in range(int(len(test_data_labels)*0.5), len(test_data_labels)):\n",
    "    if knn_5_predictions[i] != test_data_labels[i]:\n",
    "        error_of_B5 = error_of_B5 + 1\n"
   ]
  },
  {
   "cell_type": "code",
   "execution_count": null,
   "id": "e87a6588",
   "metadata": {},
   "outputs": [],
   "source": [
    "# Data for K=5\n",
    "A5_error = 1 - (error_of_A5)/25\n",
    "B5_error = 1-(error_of_B5)/25\n",
    "print(\"Class (A) accuracy = {0:.0%}\".format(A5_error),\"\\n\"\n",
    "\"Class (B) accuracy = {0:.0%}\".format(B5_error))\n",
    "print(\"Total Combined Accuracy = {:.0%}\".format(((A5_error) + (B5_error))/2))\n",
    "print(\"Class (A) error = {0:.0%}\".format((error_of_A5)/25),\"\\n\"\n",
    "    \"Class (B) error = {0:.0%}\".format((error_of_B5)/25))\n",
    "print(\"Total Combined error = {0:.0%}\".format((error_of_A5)/50 + (error_of_B5)/50))"
   ]
  },
  {
   "cell_type": "code",
   "execution_count": null,
   "id": "3207c152",
   "metadata": {},
   "outputs": [],
   "source": [
    "# use 7 NN\n",
    "knn_classifier_7 = KNeighborsClassifier(n_neighbors = 7)\n",
    "knn_classifier_7.fit(training_data_points, training_data_labels)\n",
    "\n",
    "# make predictions for test data\n",
    "knn_classifier_7.predict(test_data_points)\n",
    "\n",
    "# store the predictions in a list \n",
    "knn_7_predictions = list(knn_classifier_7.predict(test_data_points))\n",
    "# Find out how many errors in my predictions; predictions against true labels\n",
    "error_of_A7 = 0\n",
    "error_of_B7 = 0\n",
    "for i in range(int(len(test_data_labels)*0.5)):\n",
    "    if knn_7_predictions[i] != test_data_labels[i]:\n",
    "        error_of_A7 = error_of_A7 + 1\n",
    "for i in range(int(len(test_data_labels)*0.5), len(test_data_labels)):\n",
    "    if knn_7_predictions[i] != test_data_labels[i]:\n",
    "        error_of_B7 = error_of_B7 + 1\n"
   ]
  },
  {
   "cell_type": "code",
   "execution_count": null,
   "id": "f6714b64",
   "metadata": {},
   "outputs": [],
   "source": [
    "# Data for K=7\n",
    "A7_error = 1 - (error_of_A7)/25\n",
    "B7_error = 1-(error_of_B7)/25\n",
    "print(\"Class (A) accuracy = {0:.0%}\".format(A7_error),\"\\n\"\n",
    "\"Class (B) accuracy = {0:.0%}\".format(B7_error))\n",
    "print(\"Total Combined Accuracy = {:.0%}\".format(((A7_error) + (B7_error))/2))\n",
    "print(\"Class (A) error = {0:.0%}\".format((error_of_A7)/25),\"\\n\"\n",
    "    \"Class (B) error = {0:.0%}\".format((error_of_B7)/25))\n",
    "print(\"Total Combined error = {0:.0%}\".format((error_of_A7)/50 + (error_of_B7)/50))"
   ]
  },
  {
   "cell_type": "code",
   "execution_count": null,
   "id": "9b925831",
   "metadata": {},
   "outputs": [],
   "source": [
    "# use 11 NN\n",
    "knn_classifier_11 = KNeighborsClassifier(n_neighbors = 11)\n",
    "knn_classifier_11.fit(training_data_points, training_data_labels)\n",
    "\n",
    "# make predictions for test data\n",
    "knn_classifier_11.predict(test_data_points)\n",
    "\n",
    "# store the predictions in a list \n",
    "knn_11_predictions = list(knn_classifier_11.predict(test_data_points))\n",
    "# Find out how many errors in my predictions; predictions against true labels\n",
    "error_of_A11 = 0\n",
    "error_of_B11 = 0\n",
    "for i in range(int(len(test_data_labels)*0.5)):\n",
    "    if knn_11_predictions[i] != test_data_labels[i]:\n",
    "        error_of_A11 = error_of_A11 + 1\n",
    "for i in range(int(len(test_data_labels)*0.5), len(test_data_labels)):\n",
    "    if knn_11_predictions[i] != test_data_labels[i]:\n",
    "        error_of_B11 = error_of_B11 + 1\n"
   ]
  },
  {
   "cell_type": "code",
   "execution_count": null,
   "id": "b9df8381",
   "metadata": {},
   "outputs": [],
   "source": [
    "# Data for K=11\n",
    "A11_error = 1 - (error_of_A11)/25\n",
    "B11_error = 1-(error_of_B11)/25\n",
    "print(\"Class (A) accuracy = {0:.0%}\".format(A11_error),\"\\n\"\n",
    "\"Class (B) accuracy = {0:.0%}\".format(B11_error))\n",
    "print(\"Total Combined Accuracy = {:.0%}\".format(((A11_error) + (B11_error))/2))\n",
    "print(\"Class (A) error = {0:.0%}\".format((error_of_A11)/25),\"\\n\"\n",
    "    \"Class (B) error = {0:.0%}\".format((error_of_B11)/25))\n",
    "print(\"Total Combined error = {0:.0%}\".format((error_of_A11)/50 + (error_of_B11)/50))"
   ]
  },
  {
   "cell_type": "code",
   "execution_count": null,
   "id": "13b523b5",
   "metadata": {},
   "outputs": [],
   "source": [
    "# use 15 NN\n",
    "knn_classifier_15 = KNeighborsClassifier(n_neighbors = 15)\n",
    "knn_classifier_15.fit(training_data_points, training_data_labels)\n",
    "\n",
    "# make predictions for test data\n",
    "knn_classifier_15.predict(test_data_points)\n",
    "\n",
    "# store the predictions in a list \n",
    "knn_15_predictions = list(knn_classifier_15.predict(test_data_points))\n",
    "# Find out how many errors in my predictions; predictions against true labels\n",
    "error_of_A15 = 0\n",
    "error_of_B15 = 0\n",
    "for i in range(int(len(test_data_labels)*0.5)):\n",
    "    if knn_15_predictions[i] != test_data_labels[i]:\n",
    "        error_of_A15 = error_of_A15 + 1\n",
    "for i in range(int(len(test_data_labels)*0.5), len(test_data_labels)):\n",
    "    if knn_15_predictions[i] != test_data_labels[i]:\n",
    "        error_of_B15 = error_of_B15 + 1\n"
   ]
  },
  {
   "cell_type": "code",
   "execution_count": null,
   "id": "68aa1fcc",
   "metadata": {},
   "outputs": [],
   "source": [
    "# Data for K=15\n",
    "A15_error = 1 - (error_of_A15)/25\n",
    "B15_error = 1-(error_of_B15)/25\n",
    "print(\"Class (A) accuracy = {0:.0%}\".format(A15_error),\"\\n\"\n",
    "\"Class (B) accuracy = {0:.0%}\".format(B15_error))\n",
    "print(\"Total Combined Accuracy = {:.0%}\".format(((A15_error) + (B15_error))/2))\n",
    "print(\"Class (A) error = {0:.0%}\".format((error_of_A15)/25),\"\\n\"\n",
    "    \"Class (B) error = {0:.0%}\".format((error_of_B15)/25))\n",
    "print(\"Total Combined error = {0:.0%}\".format((error_of_A15)/50 + (error_of_B15)/50))"
   ]
  },
  {
   "cell_type": "code",
   "execution_count": null,
   "id": "726a905b",
   "metadata": {},
   "outputs": [],
   "source": [
    "def kval(a):\n",
    "    if int(a) == 1:\n",
    "        print(\"Class (A) accuracy = {0:.0%}\".format(A_error),\"\\n\"\n",
    "        \"Class (B) accuracy = {0:.0%}\".format(B_error))\n",
    "        print(\"Total Combined Accuracy = {:.0%}\".format(((A_error) + (B_error))/2))\n",
    "        print(\"Class (A) error = {0:.0%}\".format((error_of_A)/25),\"\\n\"\n",
    "        \"Class (B) error = {0:.0%}\".format((error_of_B)/25))\n",
    "        print(\"Total Combined error = {0:.0%}\".format((error_of_A)/50 + (error_of_B)/50))\n",
    "    elif int(a) == 5:\n",
    "        print(\"Class (A) accuracy = {0:.0%}\".format(A5_error),\"\\n\"\n",
    "        \"Class (B) accuracy = {0:.0%}\".format(B5_error))\n",
    "        print(\"Total Combined Accuracy = {:.0%}\".format(((A5_error) + (B5_error))/2))\n",
    "        print(\"Class (A) error = {0:.0%}\".format((error_of_A5)/25),\"\\n\"\n",
    "        \"Class (B) error = {0:.0%}\".format((error_of_B5)/25))\n",
    "        print(\"Total Combined error = {0:.0%}\".format((error_of_A5)/50 + (error_of_B5)/50))\n",
    "    elif int(a) == 7:\n",
    "        print(\"Class (A) accuracy = {0:.0%}\".format(A7_error),\"\\n\"\n",
    "        \"Class (B) accuracy = {0:.0%}\".format(B7_error))\n",
    "        print(\"Total Combined Accuracy = {:.0%}\".format(((A7_error) + (B7_error))/2))\n",
    "        print(\"Class (A) error = {0:.0%}\".format((error_of_A7)/25),\"\\n\"\n",
    "        \"Class (B) error = {0:.0%}\".format((error_of_B7)/25))\n",
    "        print(\"Total Combined error = {0:.0%}\".format((error_of_A7)/50 + (error_of_B7)/50))\n",
    "    elif int(a) == 11:\n",
    "        print(\"Class (A) accuracy = {0:.0%}\".format(A11_error),\"\\n\"\n",
    "        \"Class (B) accuracy = {0:.0%}\".format(B11_error))\n",
    "        print(\"Total Combined Accuracy = {:.0%}\".format(((A11_error) + (B11_error))/2))\n",
    "        print(\"Class (A) error = {0:.0%}\".format((error_of_A11)/25),\"\\n\"\n",
    "        \"Class (B) error = {0:.0%}\".format((error_of_B11)/25))\n",
    "        print(\"Total Combined error = {0:.0%}\".format((error_of_A11)/50 + (error_of_B11)/50))\n",
    "    else:\n",
    "        print(\"Class (A) accuracy = {0:.0%}\".format(A15_error),\"\\n\"\n",
    "        \"Class (B) accuracy = {0:.0%}\".format(B15_error))\n",
    "        print(\"Total Combined Accuracy = {:.0%}\".format(((A15_error) + (B15_error))/2))\n",
    "        print(\"Class (A) error = {0:.0%}\".format((error_of_A15)/25),\"\\n\"\n",
    "        \"Class (B) error = {0:.0%}\".format((error_of_B15)/25))\n",
    "        print(\"Total Combined error = {0:.0%}\".format((error_of_A15)/50 + (error_of_B15)/50))"
   ]
  },
  {
   "cell_type": "code",
   "execution_count": null,
   "id": "70dc12cf",
   "metadata": {},
   "outputs": [],
   "source": [
    "while True:\n",
    "    print(\"Welcome to my classification system using KNN\")\n",
    "    KValues = [1,5,7,11,15]\n",
    "    desired_i = input(\"Please select one of the following k values? (1,5,7,11,15):\\n\")\n",
    "    v = int(desired_i)\n",
    "    if v in KValues:\n",
    "        print(\"The classification accuracy is as follows for K = {}\".format(desired_i));v;kval(v)\n",
    "    else:\n",
    "        print (\"Please pick one of the following numbers (1,5,7,11,15)\")\n",
    "    new = input(\"Do you want to try another K Value? enter Y to restart or another key to end: \")\n",
    "    if new.upper() == \"Y\": #go back to the top\n",
    "        continue    \n",
    "    print(\"Bye...\")\n",
    "    break #exit"
   ]
  },
  {
   "cell_type": "code",
   "execution_count": null,
   "id": "12f2e94c",
   "metadata": {},
   "outputs": [],
   "source": []
  }
 ],
 "metadata": {
  "kernelspec": {
   "display_name": "Python 3 (ipykernel)",
   "language": "python",
   "name": "python3"
  },
  "language_info": {
   "codemirror_mode": {
    "name": "ipython",
    "version": 3
   },
   "file_extension": ".py",
   "mimetype": "text/x-python",
   "name": "python",
   "nbconvert_exporter": "python",
   "pygments_lexer": "ipython3",
   "version": "3.9.7"
  }
 },
 "nbformat": 4,
 "nbformat_minor": 5
}
